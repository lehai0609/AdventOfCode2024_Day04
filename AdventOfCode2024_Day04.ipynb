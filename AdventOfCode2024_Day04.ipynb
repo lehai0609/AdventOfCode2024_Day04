{
 "cells": [
  {
   "cell_type": "markdown",
   "metadata": {},
   "source": [
    "# ***Advent of Code 2024 - Day 04***"
   ]
  },
  {
   "cell_type": "markdown",
   "metadata": {},
   "source": [
    "## ***Part A***"
   ]
  },
  {
   "cell_type": "markdown",
   "metadata": {},
   "source": [
    "***Observation***\n",
    "\n",
    "This problem is more like graph traversal. My approach would be:\n",
    "1. First, we'd need to read and parse the input into a 2D grid\n",
    "2. From each position containing 'X', we'd need to check all 8 possible directions\n",
    "3. For each direction, we'd need to check if the next 3 characters spell \"MAS\""
   ]
  },
  {
   "cell_type": "code",
   "execution_count": 14,
   "metadata": {},
   "outputs": [
    {
     "name": "stdout",
     "output_type": "stream",
     "text": [
      "SXXSAMSSMMSMMSXXXXMMXMMMMSMMMSSSXSAMXMXSXMASXMSMXSMMXSMSXMMASXMASMSSMMXSMSSSSSSXSXMAMXAMXSMSXSXXMMMM\n",
      "Number of rows: 140\n",
      "Number of columns: 140 in each row\n"
     ]
    }
   ],
   "source": [
    "# Read the input.txt file and parse into a list of lists\n",
    "# - Open & read the file\n",
    "# - Split content into row\n",
    "# - Convert each row into list of characters\n",
    "with open('input.txt', 'r') as file:\n",
    "    content = file.read()\n",
    "print(content[:100])\n",
    "\n",
    "char_grid = content\n",
    "char_grid = [list(line.strip()) for line in content.split('\\n') if line]\n",
    "print(f\"Number of rows: {len(char_grid)}\")\n",
    "print(f\"Number of columns: {len(char_grid[0])} in each row\")"
   ]
  },
  {
   "cell_type": "markdown",
   "metadata": {},
   "source": [
    "***Observation***:\n",
    "\n",
    "Now we got a 140*140 grid of character, easier to traverse & access to each character. Move on to next 02 stages:\n",
    "2. From each position containing 'X', we'd need to check all 8 possible directions\n",
    "3. For each direction, we'd need to check if the next 3 characters spell \"MAS\"\n",
    "\n",
    "We'll break it down into following steps:\n",
    " - Find all X positions\n",
    " - Define the eight possible direction: horizontal, vertical, diagonal\n",
    " - Check each direction of each X, validate if potential XMAS pattern met."
   ]
  },
  {
   "cell_type": "code",
   "execution_count": 15,
   "metadata": {},
   "outputs": [],
   "source": [
    "# Find all X positions\n",
    "def find_x_positions(grid):\n",
    "    x_positions = []\n",
    "    for row_index in range(0,len(char_grid)):\n",
    "        for col_index in range(0, len(char_grid[0])):\n",
    "            if char_grid[row_index][col_index] == \"X\": x_positions.append((row_index, col_index))\n",
    "    return x_positions\n",
    "\n",
    "# Define the eight possible directions\n",
    "directions = [\n",
    "    (0, 1),   # right\n",
    "    (1, 1),   # right-down diagonal\n",
    "    (1, 0),   # down\n",
    "    (1, -1),  # left-down diagonal\n",
    "    (0, -1),  # left\n",
    "    (-1, -1), # left-up diagonal\n",
    "    (-1, 0),  # up\n",
    "    (-1, 1)   # right-up diagonal\n",
    "]\n",
    "\n",
    "# Check whether direction met MAS patther\n",
    "def check_for_XMAS_SAMX(grid, x_row, x_col, direction):\n",
    "    rows, cols = len(grid), len(grid[0])\n",
    "    \n",
    "    # Calculate all four positions\n",
    "    positions = [\n",
    "        (x_row, x_col),  # X position\n",
    "        (x_row + direction[0], x_col + direction[1]),\n",
    "        (x_row + 2*direction[0], x_col + 2*direction[1]),\n",
    "        (x_row + 3*direction[0], x_col + 3*direction[1])\n",
    "    ]\n",
    "    \n",
    "    # Boundary check\n",
    "    if any(x < 0 or x >= rows or y < 0 or y >= cols for x, y in positions):\n",
    "        return 0\n",
    "    \n",
    "    # Get the sequence\n",
    "    letters = ''.join(grid[x][y] for x, y in positions)\n",
    "    \n",
    "    # Count matches for both patterns\n",
    "    matches = 0\n",
    "    if letters == \"XMAS\":\n",
    "        matches += 1\n",
    "    if letters == \"SAMX\":\n",
    "        matches += 1\n",
    "    \n",
    "    return matches\n"
   ]
  },
  {
   "cell_type": "code",
   "execution_count": 16,
   "metadata": {},
   "outputs": [
    {
     "data": {
      "text/plain": [
       "2593"
      ]
     },
     "execution_count": 16,
     "metadata": {},
     "output_type": "execute_result"
    }
   ],
   "source": [
    "# Count XMAS pattern\n",
    "def count_XMAS_pattern(grid, directions):\n",
    "    count = 0\n",
    "    x_positions = find_x_positions(grid)\n",
    "    for position in x_positions:\n",
    "        for direction in directions:\n",
    "            count += check_for_XMAS_SAMX(grid, position[0], position[1], direction)\n",
    "    return count\n",
    "\n",
    "count_XMAS_pattern(char_grid, directions)"
   ]
  },
  {
   "cell_type": "code",
   "execution_count": 17,
   "metadata": {},
   "outputs": [
    {
     "name": "stdout",
     "output_type": "stream",
     "text": [
      "2593 1950\n"
     ]
    }
   ],
   "source": [
    "class AdventDay4:\n",
    "\n",
    "    def __init__(self):\n",
    "        \"\"\"Initialize the word search, the row and column dimensions, and\n",
    "        the goals for the word search. The word search is stored as a list of\n",
    "        lists where each list is a row of the word search. The goals are the\n",
    "        words 'XMAS' and 'MAS' and the words 'SAMX' and 'SAM' for part 1 and\n",
    "        part 2 respectively.\n",
    "        \"\"\"\n",
    "        self.ws = []\n",
    "        with open('input.txt', 'r') as f:\n",
    "            for line in f.readlines():\n",
    "                self.ws.append([x for x in line if x != '\\n'])\n",
    "        self.n = len(self.ws)\n",
    "        self.m = len(self.ws[0])\n",
    "        self.word_goal = ['XMAS', 'SAMX']\n",
    "        self.x_goal = ['MAS', 'SAM']\n",
    "        self.part1 = 0\n",
    "        self.part2 = 0\n",
    "\n",
    "    def xmas_search(self):\n",
    "        \"\"\"Search for the word 'XMAS' in the word search.\"\"\"\n",
    "        self._row_search()\n",
    "        self._col_search()\n",
    "        self._diag_search()\n",
    "\n",
    "    def _row_search(self):\n",
    "        \"\"\"Search for the word 'XMAS' in the rows of the word search.\"\"\"\n",
    "        for row in self.ws:\n",
    "            for i in range(self.m - 3):\n",
    "                self.part1 += ''.join(row[i:i+4]) in self.word_goal\n",
    "\n",
    "    def _col_search(self):\n",
    "        \"\"\"Search for the word 'XMAS' in the columns of the word search.\"\"\"\n",
    "        for col in zip(*self.ws):\n",
    "            for i in range(self.m - 3):\n",
    "                self.part1 += ''.join(col[i:i+4]) in self.word_goal\n",
    "\n",
    "    def _diag_search(self):\n",
    "        \"\"\"Search for the word 'XMAS' in the diagonals of the word search.\"\"\"\n",
    "        for row in range(self.n - 3):\n",
    "            for col in range(self.m - 3):\n",
    "                diag_1 = ''.join([self.ws[row][col],\n",
    "                                  self.ws[row+1][col+1],\n",
    "                                  self.ws[row+2][col+2],\n",
    "                                  self.ws[row+3][col+3]])\n",
    "                diag_2 = ''.join([self.ws[row+3][col],\n",
    "                                  self.ws[row+2][col+1],\n",
    "                                  self.ws[row+1][col+2],\n",
    "                                  self.ws[row][col+3]])\n",
    "                self.part1 += diag_1 in self.word_goal\n",
    "                self.part1 += diag_2 in self.word_goal\n",
    "\n",
    "    def diag_x_mas_search(self):\n",
    "        \"\"\"Search for the word 'MAS' to cross in the diagonals of the word\n",
    "        search.\n",
    "        \"\"\"\n",
    "        for row in range(self.n - 2):\n",
    "            for col in range(self.m - 2):\n",
    "                diag_1 = ''.join([self.ws[row][col],\n",
    "                                  self.ws[row+1][col+1],\n",
    "                                  self.ws[row+2][col+2]])\n",
    "                diag_2 = ''.join([self.ws[row+2][col],\n",
    "                                  self.ws[row+1][col+1],\n",
    "                                  self.ws[row][col+2]])\n",
    "                self.part2 += diag_1 in self.x_goal and diag_2 in self.x_goal\n",
    "\n",
    "\n",
    "if __name__ == '__main__':\n",
    "    day4 = AdventDay4()\n",
    "    day4.xmas_search()\n",
    "    day4.diag_x_mas_search()\n",
    "    print(day4.part1, day4.part2)"
   ]
  },
  {
   "cell_type": "code",
   "execution_count": 18,
   "metadata": {},
   "outputs": [
    {
     "data": {
      "text/plain": [
       "5186"
      ]
     },
     "execution_count": 18,
     "metadata": {},
     "output_type": "execute_result"
    }
   ],
   "source": [
    "def count_XMAS_patterns(grid):\n",
    "    rows = len(grid)\n",
    "    cols = len(grid[0])\n",
    "    total_count = 0\n",
    "    \n",
    "    # 8 directions: right, down-right, down, down-left, left, up-left, up, up-right\n",
    "    directions = [\n",
    "        (0,1), (1,1), (1,0), (1,-1), \n",
    "        (0,-1), (-1,-1), (-1,0), (-1,1)\n",
    "    ]\n",
    "    \n",
    "    def check_pattern(x, y, dx, dy):\n",
    "        positions = [\n",
    "            (x, y),\n",
    "            (x + dx, y + dy),\n",
    "            (x + 2*dx, y + 2*dy),\n",
    "            (x + 3*dx, y + 3*dy)\n",
    "        ]\n",
    "        \n",
    "        # Boundary check\n",
    "        if any(r < 0 or r >= rows or c < 0 or c >= cols for r,c in positions):\n",
    "            return 0\n",
    "            \n",
    "        # Get sequence\n",
    "        word = ''.join(grid[r][c] for r,c in positions)\n",
    "        return (word == \"XMAS\") + (word == \"SAMX\")\n",
    "    \n",
    "    # Search grid\n",
    "    for row in range(rows):\n",
    "        for col in range(cols):\n",
    "            for dx, dy in directions:\n",
    "                total_count += check_pattern(row, col, dx, dy)\n",
    "                \n",
    "    return total_count\n",
    "\n",
    "count_XMAS_patterns(char_grid)"
   ]
  }
 ],
 "metadata": {
  "kernelspec": {
   "display_name": "Python 3",
   "language": "python",
   "name": "python3"
  },
  "language_info": {
   "codemirror_mode": {
    "name": "ipython",
    "version": 3
   },
   "file_extension": ".py",
   "mimetype": "text/x-python",
   "name": "python",
   "nbconvert_exporter": "python",
   "pygments_lexer": "ipython3",
   "version": "3.12.6"
  }
 },
 "nbformat": 4,
 "nbformat_minor": 2
}
